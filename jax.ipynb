{
 "metadata": {
  "language_info": {
   "codemirror_mode": {
    "name": "ipython",
    "version": 3
   },
   "file_extension": ".py",
   "mimetype": "text/x-python",
   "name": "python",
   "nbconvert_exporter": "python",
   "pygments_lexer": "ipython3",
   "version": "3.8.5"
  },
  "orig_nbformat": 2,
  "kernelspec": {
   "name": "python385jvsc74a57bd06eeb3b05fbc511c1ffa23a40835621539a39a9e840c4c206975166ce64307469",
   "display_name": "Python 3.8.5 64-bit ('jax_env': conda)"
  }
 },
 "nbformat": 4,
 "nbformat_minor": 2,
 "cells": [
  {
   "cell_type": "code",
   "execution_count": 11,
   "metadata": {},
   "outputs": [
    {
     "output_type": "display_data",
     "data": {
      "text/plain": "<IPython.core.display.HTML object>",
      "text/html": "Finishing last run (ID:1fmu8uq2) before initializing another..."
     },
     "metadata": {}
    },
    {
     "output_type": "display_data",
     "data": {
      "text/plain": "<IPython.core.display.HTML object>",
      "text/html": "<br/>Waiting for W&B process to finish, PID 2570775<br/>Program ended successfully."
     },
     "metadata": {}
    },
    {
     "output_type": "display_data",
     "data": {
      "text/plain": "VBox(children=(Label(value=' 0.00MB of 0.00MB uploaded (0.00MB deduped)\\r'), FloatProgress(value=1.0, max=1.0)…",
      "application/vnd.jupyter.widget-view+json": {
       "version_major": 2,
       "version_minor": 0,
       "model_id": "d66f34ad206940f78b701a2449ec1052"
      }
     },
     "metadata": {}
    },
    {
     "output_type": "display_data",
     "data": {
      "text/plain": "<IPython.core.display.HTML object>",
      "text/html": "Find user logs for this run at: <code>/home/philipuser/_jax_/wandb/run-20210610_214030-1fmu8uq2/logs/debug.log</code>"
     },
     "metadata": {}
    },
    {
     "output_type": "display_data",
     "data": {
      "text/plain": "<IPython.core.display.HTML object>",
      "text/html": "Find internal logs for this run at: <code>/home/philipuser/_jax_/wandb/run-20210610_214030-1fmu8uq2/logs/debug-internal.log</code>"
     },
     "metadata": {}
    },
    {
     "output_type": "display_data",
     "data": {
      "text/plain": "<IPython.core.display.HTML object>",
      "text/html": "Synced 6 W&B file(s), 0 media file(s), 0 artifact file(s) and 0 other file(s)"
     },
     "metadata": {}
    },
    {
     "output_type": "display_data",
     "data": {
      "text/plain": "<IPython.core.display.HTML object>",
      "text/html": "\n                    <br/>Synced <strong style=\"color:#cdcd00\">effortless-dragon-24</strong>: <a href=\"https://wandb.ai/phamid/jax_demo/runs/1fmu8uq2\" target=\"_blank\">https://wandb.ai/phamid/jax_demo/runs/1fmu8uq2</a><br/>\n                "
     },
     "metadata": {}
    },
    {
     "output_type": "display_data",
     "data": {
      "text/plain": "<IPython.core.display.HTML object>",
      "text/html": "...Successfully finished last run (ID:1fmu8uq2). Initializing new run:<br/><br/>"
     },
     "metadata": {}
    },
    {
     "output_type": "stream",
     "name": "stderr",
     "text": [
      "\u001b[34m\u001b[1mwandb\u001b[0m: wandb version 0.10.32 is available!  To upgrade, please run:\n\u001b[34m\u001b[1mwandb\u001b[0m:  $ pip install wandb --upgrade\n"
     ]
    },
    {
     "output_type": "display_data",
     "data": {
      "text/plain": "<IPython.core.display.HTML object>",
      "text/html": "\n                Tracking run with wandb version 0.10.31<br/>\n                Syncing run <strong style=\"color:#cdcd00\">glowing-waterfall-25</strong> to <a href=\"https://wandb.ai\" target=\"_blank\">Weights & Biases</a> <a href=\"https://docs.wandb.com/integrations/jupyter.html\" target=\"_blank\">(Documentation)</a>.<br/>\n                Project page: <a href=\"https://wandb.ai/phamid/jax_demo\" target=\"_blank\">https://wandb.ai/phamid/jax_demo</a><br/>\n                Run page: <a href=\"https://wandb.ai/phamid/jax_demo/runs/1e4aoq0n\" target=\"_blank\">https://wandb.ai/phamid/jax_demo/runs/1e4aoq0n</a><br/>\n                Run data is saved locally in <code>/home/philipuser/_jax_/wandb/run-20210610_214702-1e4aoq0n</code><br/><br/>\n            "
     },
     "metadata": {}
    }
   ],
   "source": [
    "import os\n",
    "import jax\n",
    "from tqdm import trange\n",
    "import jax.numpy as jnp\n",
    "import numpy as np\n",
    "\n",
    "from jax import jit, pmap, vmap, value_and_grad\n",
    "from jax.tree_util import tree_map, tree_multimap\n",
    "from jax.lax import psum, pmean\n",
    "import matplotlib.pyplot as plt\n",
    "import haiku as hk\n",
    "import optax\n",
    "\n",
    "import sklearn.datasets as dt\n",
    "\n",
    "import wandb\n",
    "\n",
    "wandb.init(project='jax_demo', entity='phamid')\n",
    "# 2. Save model inputs and hyperparameters\n",
    "config = wandb.config\n",
    "config.learning_rate = 0.005\n",
    "\n",
    "#jax.devices(),len(jax.devices())"
   ]
  },
  {
   "cell_type": "code",
   "execution_count": 12,
   "metadata": {},
   "outputs": [],
   "source": [
    "seed = 1337\n",
    "features_num = 35\n",
    "samples_num = 1000\n",
    "rand = np.random.RandomState(seed) \n",
    "\n",
    "\n",
    "x,y_true = dt.make_friedman1(n_samples=samples_num,n_features=features_num,noise=0.2,random_state=rand)"
   ]
  },
  {
   "cell_type": "code",
   "execution_count": 13,
   "metadata": {},
   "outputs": [
    {
     "output_type": "execute_result",
     "data": {
      "text/plain": [
       "((1000, 35), (1000,))"
      ]
     },
     "metadata": {},
     "execution_count": 13
    }
   ],
   "source": [
    "x.shape, y_true.shape"
   ]
  },
  {
   "cell_type": "code",
   "execution_count": 14,
   "metadata": {},
   "outputs": [
    {
     "output_type": "execute_result",
     "data": {
      "text/plain": [
       "(list, haiku._src.data_structures.FlatMapping, (1000,), (35, 1000), (1000,))"
      ]
     },
     "metadata": {},
     "execution_count": 14
    }
   ],
   "source": [
    "#y_true = m_true * x + b_true\n",
    "#y_true = np.dot(m_true,x) + b_true\n",
    "\n",
    "def model_fn(x):\n",
    "  y = hk.Linear(samples_num)  # change number of outputs \n",
    "\n",
    "  return y(x)\n",
    "\n",
    "model = hk.without_apply_rng(hk.transform(model_fn))\n",
    "\n",
    "init_key = jax.random.PRNGKey(1337)\n",
    "representation_input = jnp.ones((samples_num, features_num)) # model param variable x1  \n",
    "params = model.init(init_key, representation_input)\n",
    "\n",
    "opt = optax.adam(0.01)\n",
    "opt_state = opt.init(params)\n",
    "\n",
    "type(opt_state), type(params), y_true.shape, params['linear']['w'].shape,params['linear']['b'].shape\n",
    "\n",
    "#'linear/w' with shape (1, 5) does not match shape=[5, 5] dtype=dtype('float64')\n"
   ]
  },
  {
   "cell_type": "code",
   "execution_count": 20,
   "metadata": {
    "tags": []
   },
   "outputs": [
    {
     "output_type": "stream",
     "name": "stderr",
     "text": [
      "100%|██████████| 50/50 [00:00<00:00, 70.74it/s, Loss=9.719577e-06]\n"
     ]
    }
   ],
   "source": [
    "#print(f\"initial params w={params['linear']['w']}) b={params['linear']['b']}\")\n",
    "\n",
    "def mean_sqrd_loss (params,x, y_true):\n",
    "    y_pred = model.apply(params, x)\n",
    "    loss = (y_pred - y_true) **2\n",
    "    return jnp.mean(loss)\n",
    "\n",
    "def update (params, opt_state):\n",
    "    loss_value, grads = value_and_grad(mean_sqrd_loss)(params, x, y_true)\n",
    "    updates, opt_state = opt.update(grads, opt_state)\n",
    "    params = optax.apply_updates(params, updates)\n",
    "\n",
    "    return params, opt_state, loss_value\n",
    "\n",
    "update = jit(update)\n",
    "\n",
    "#loop thru dataset\n",
    "epoch = trange(50)\n",
    "for _ in epoch:\n",
    "    for _ in range(100):\n",
    "        params, opt_state, loss_value = update(params, opt_state)\n",
    "    epoch.set_postfix({'Loss' : loss_value})\n",
    "    \n",
    "    #wandb.log({\"loss\": loss_value.copy()})\n",
    "\n",
    "    \n",
    "    \n",
    "\n",
    "#print(f\"final params w={params['linear']['w']}) b={params['linear']['b']}\")\n",
    "\n",
    "    \n"
   ]
  },
  {
   "cell_type": "code",
   "execution_count": null,
   "metadata": {},
   "outputs": [],
   "source": []
  }
 ]
}
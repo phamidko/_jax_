{
 "metadata": {
  "language_info": {
   "codemirror_mode": {
    "name": "ipython",
    "version": 3
   },
   "file_extension": ".py",
   "mimetype": "text/x-python",
   "name": "python",
   "nbconvert_exporter": "python",
   "pygments_lexer": "ipython3",
   "version": "3.8.5"
  },
  "orig_nbformat": 2,
  "kernelspec": {
   "name": "python385jvsc74a57bd06eeb3b05fbc511c1ffa23a40835621539a39a9e840c4c206975166ce64307469",
   "display_name": "Python 3.8.5 64-bit ('jax_env': conda)"
  }
 },
 "nbformat": 4,
 "nbformat_minor": 2,
 "cells": [
  {
   "cell_type": "code",
   "execution_count": 3,
   "metadata": {},
   "outputs": [
    {
     "output_type": "execute_result",
     "data": {
      "text/plain": [
       "DeviceArray([[0.],\n",
       "             [1.],\n",
       "             [2.],\n",
       "             [0.],\n",
       "             [1.],\n",
       "             [2.]], dtype=float32)"
      ]
     },
     "metadata": {},
     "execution_count": 3
    }
   ],
   "source": [
    "import jraph\n",
    "import jax.numpy as jnp\n",
    "\n",
    "# Define a three node graph, each node has an integer as its feature.\n",
    "node_features = jnp.array([[0.], [1.], [2.]])\n",
    "\n",
    "# We will construct a graph fro which there is a directed edge between each node\n",
    "# and its successor. We define this with `senders` (source nodes) and `receivers`\n",
    "# (destination nodes).\n",
    "senders = jnp.array([0, 1, 2])\n",
    "receivers = jnp.array([1, 2, 0])\n",
    "\n",
    "# You can optionally add edge attributes.\n",
    "edges = jnp.array([[5.], [6.], [7.]])\n",
    "\n",
    "# We then save the number of nodes and the number of edges.\n",
    "# This information is used to make running GNNs over multiple graphs\n",
    "# in a GraphsTuple possible.\n",
    "n_node = jnp.array([3])\n",
    "n_edge = jnp.array([3])\n",
    "\n",
    "# Optionally you can add `global` information, such as a graph label.\n",
    "\n",
    "global_context = jnp.array([[1]]) # Same feature dimensions as nodes and edges.\n",
    "graph = jraph.GraphsTuple(nodes=node_features, senders=senders, receivers=receivers,edges=edges, n_node=n_node, n_edge=n_edge,globals=global_context)\n",
    "\n",
    "# GraphsTuple can have more than one graph\n",
    "two_graph_graphstuple = jraph.batch([graph, graph])\n",
    "\n",
    "# node and edge features are stacked on the leading axis.\n",
    "jraph.batch([graph, graph]).nodes\n",
    "\n"
   ]
  },
  {
   "cell_type": "code",
   "execution_count": 4,
   "metadata": {},
   "outputs": [
    {
     "output_type": "execute_result",
     "data": {
      "text/plain": [
       "DeviceArray([3, 3], dtype=int32)"
      ]
     },
     "metadata": {},
     "execution_count": 4
    }
   ],
   "source": [
    "#tell which nodes are from which graph by looking at n_node\n",
    "jraph.batch([graph, graph]).n_node"
   ]
  },
  {
   "cell_type": "code",
   "execution_count": null,
   "metadata": {},
   "outputs": [],
   "source": []
  }
 ]
}